{
 "cells": [
  {
   "cell_type": "markdown",
   "id": "dc0318d6",
   "metadata": {},
   "source": [
    "## Part 1: Explore the Data\n",
    "\n",
    "Import the data and use Pandas to learn more about the dataset."
   ]
  },
  {
   "cell_type": "code",
   "execution_count": 1,
   "id": "e076f57f",
   "metadata": {},
   "outputs": [
    {
     "data": {
      "text/html": [
       "<div>\n",
       "<style scoped>\n",
       "    .dataframe tbody tr th:only-of-type {\n",
       "        vertical-align: middle;\n",
       "    }\n",
       "\n",
       "    .dataframe tbody tr th {\n",
       "        vertical-align: top;\n",
       "    }\n",
       "\n",
       "    .dataframe thead th {\n",
       "        text-align: right;\n",
       "    }\n",
       "</style>\n",
       "<table border=\"1\" class=\"dataframe\">\n",
       "  <thead>\n",
       "    <tr style=\"text-align: right;\">\n",
       "      <th></th>\n",
       "      <th>first</th>\n",
       "      <th>last</th>\n",
       "      <th>job</th>\n",
       "      <th>phone</th>\n",
       "      <th>email</th>\n",
       "      <th>client_id</th>\n",
       "      <th>order_id</th>\n",
       "      <th>order_date</th>\n",
       "      <th>order_week</th>\n",
       "      <th>order_year</th>\n",
       "      <th>item_id</th>\n",
       "      <th>category</th>\n",
       "      <th>subcategory</th>\n",
       "      <th>unit_price</th>\n",
       "      <th>unit_cost</th>\n",
       "      <th>unit_weight</th>\n",
       "      <th>qty</th>\n",
       "      <th>line_number</th>\n",
       "    </tr>\n",
       "  </thead>\n",
       "  <tbody>\n",
       "    <tr>\n",
       "      <th>0</th>\n",
       "      <td>Donald</td>\n",
       "      <td>Harding</td>\n",
       "      <td>Immunologist</td>\n",
       "      <td>793-904-7725x39308</td>\n",
       "      <td>harding.donald.7185@sullivan.com</td>\n",
       "      <td>58515</td>\n",
       "      <td>8953482</td>\n",
       "      <td>2023-04-28</td>\n",
       "      <td>17</td>\n",
       "      <td>2023</td>\n",
       "      <td>EUD29711-63-6U</td>\n",
       "      <td>decor</td>\n",
       "      <td>wall art</td>\n",
       "      <td>1096.80</td>\n",
       "      <td>762.71</td>\n",
       "      <td>7.50</td>\n",
       "      <td>105</td>\n",
       "      <td>1</td>\n",
       "    </tr>\n",
       "    <tr>\n",
       "      <th>1</th>\n",
       "      <td>Tiffany</td>\n",
       "      <td>Myers</td>\n",
       "      <td>Music therapist</td>\n",
       "      <td>201.442.4543x942</td>\n",
       "      <td>myers.t.6537@ferguson-johnson.net</td>\n",
       "      <td>37609</td>\n",
       "      <td>8069089</td>\n",
       "      <td>2023-05-19</td>\n",
       "      <td>20</td>\n",
       "      <td>2023</td>\n",
       "      <td>XDA18116-89-4A</td>\n",
       "      <td>consumables</td>\n",
       "      <td>pens</td>\n",
       "      <td>24.95</td>\n",
       "      <td>15.09</td>\n",
       "      <td>1.49</td>\n",
       "      <td>21</td>\n",
       "      <td>0</td>\n",
       "    </tr>\n",
       "    <tr>\n",
       "      <th>2</th>\n",
       "      <td>Shannon</td>\n",
       "      <td>Watson</td>\n",
       "      <td>Immunologist</td>\n",
       "      <td>687.737.9424x8503</td>\n",
       "      <td>swatson8146@payne.net</td>\n",
       "      <td>57113</td>\n",
       "      <td>1902144</td>\n",
       "      <td>2023-01-29</td>\n",
       "      <td>4</td>\n",
       "      <td>2023</td>\n",
       "      <td>ABE59463-05-7E</td>\n",
       "      <td>software</td>\n",
       "      <td>project management</td>\n",
       "      <td>13.52</td>\n",
       "      <td>7.86</td>\n",
       "      <td>1.68</td>\n",
       "      <td>39</td>\n",
       "      <td>6</td>\n",
       "    </tr>\n",
       "    <tr>\n",
       "      <th>3</th>\n",
       "      <td>Nathan</td>\n",
       "      <td>Baker</td>\n",
       "      <td>Accounting technician</td>\n",
       "      <td>827-788-8123x012</td>\n",
       "      <td>bakernathan@benson.com</td>\n",
       "      <td>46554</td>\n",
       "      <td>9031802</td>\n",
       "      <td>2023-04-25</td>\n",
       "      <td>17</td>\n",
       "      <td>2023</td>\n",
       "      <td>ZMM00836-65-0C</td>\n",
       "      <td>consumables</td>\n",
       "      <td>pens</td>\n",
       "      <td>36.42</td>\n",
       "      <td>24.85</td>\n",
       "      <td>1.23</td>\n",
       "      <td>29</td>\n",
       "      <td>3</td>\n",
       "    </tr>\n",
       "    <tr>\n",
       "      <th>4</th>\n",
       "      <td>Christina</td>\n",
       "      <td>Schwartz</td>\n",
       "      <td>Chiropractor</td>\n",
       "      <td>265-829-3643</td>\n",
       "      <td>christinaschwartz9252@mcconnell.com</td>\n",
       "      <td>92089</td>\n",
       "      <td>1322274</td>\n",
       "      <td>2023-05-28</td>\n",
       "      <td>21</td>\n",
       "      <td>2023</td>\n",
       "      <td>BZX55559-12-3X</td>\n",
       "      <td>consumables</td>\n",
       "      <td>misc</td>\n",
       "      <td>195.10</td>\n",
       "      <td>108.17</td>\n",
       "      <td>46.43</td>\n",
       "      <td>20</td>\n",
       "      <td>1</td>\n",
       "    </tr>\n",
       "  </tbody>\n",
       "</table>\n",
       "</div>"
      ],
      "text/plain": [
       "       first      last                    job               phone  \\\n",
       "0     Donald   Harding           Immunologist  793-904-7725x39308   \n",
       "1    Tiffany     Myers        Music therapist    201.442.4543x942   \n",
       "2    Shannon    Watson           Immunologist   687.737.9424x8503   \n",
       "3     Nathan     Baker  Accounting technician    827-788-8123x012   \n",
       "4  Christina  Schwartz           Chiropractor        265-829-3643   \n",
       "\n",
       "                                 email  client_id  order_id  order_date  \\\n",
       "0     harding.donald.7185@sullivan.com      58515   8953482  2023-04-28   \n",
       "1    myers.t.6537@ferguson-johnson.net      37609   8069089  2023-05-19   \n",
       "2                swatson8146@payne.net      57113   1902144  2023-01-29   \n",
       "3               bakernathan@benson.com      46554   9031802  2023-04-25   \n",
       "4  christinaschwartz9252@mcconnell.com      92089   1322274  2023-05-28   \n",
       "\n",
       "   order_week  order_year         item_id     category         subcategory  \\\n",
       "0          17        2023  EUD29711-63-6U        decor            wall art   \n",
       "1          20        2023  XDA18116-89-4A  consumables                pens   \n",
       "2           4        2023  ABE59463-05-7E     software  project management   \n",
       "3          17        2023  ZMM00836-65-0C  consumables                pens   \n",
       "4          21        2023  BZX55559-12-3X  consumables                misc   \n",
       "\n",
       "   unit_price  unit_cost  unit_weight  qty  line_number  \n",
       "0     1096.80     762.71         7.50  105            1  \n",
       "1       24.95      15.09         1.49   21            0  \n",
       "2       13.52       7.86         1.68   39            6  \n",
       "3       36.42      24.85         1.23   29            3  \n",
       "4      195.10     108.17        46.43   20            1  "
      ]
     },
     "execution_count": 1,
     "metadata": {},
     "output_type": "execute_result"
    }
   ],
   "source": [
    "import pandas as pd\n",
    "\n",
    "df = pd.read_csv('Resources/client_dataset.csv')\n",
    "\n",
    "df.head()"
   ]
  },
  {
   "cell_type": "code",
   "execution_count": 28,
   "id": "71b9bbd2",
   "metadata": {},
   "outputs": [
    {
     "name": "stdout",
     "output_type": "stream",
     "text": [
      "Index(['first', 'last', 'job', 'phone', 'email', 'client_id', 'order_id',\n",
      "       'order_date', 'order_week', 'order_year', 'item_id', 'category',\n",
      "       'subcategory', 'unit_price', 'unit_cost', 'unit_weight', 'qty',\n",
      "       'line_number', 'shipping_price', 'line_subtotal', 'line_price',\n",
      "       'line_cost', 'line_profit'],\n",
      "      dtype='object')\n"
     ]
    }
   ],
   "source": [
    "# View the column names in the data\n",
    "print(df.columns)\n"
   ]
  },
  {
   "cell_type": "code",
   "execution_count": 26,
   "id": "bc0f4172",
   "metadata": {},
   "outputs": [
    {
     "name": "stdout",
     "output_type": "stream",
     "text": [
      "          client_id      order_id    order_week    order_year    unit_price  \\\n",
      "count  54639.000000  5.463900e+04  54639.000000  54639.000000  54639.000000   \n",
      "mean   54837.869416  5.470190e+06     11.359139   2022.993064    136.267207   \n",
      "std    25487.438231  2.599807e+06      7.023499      0.082997    183.873135   \n",
      "min    10033.000000  1.000886e+06      1.000000   2022.000000      0.010000   \n",
      "25%    33593.000000  3.196372e+06      6.000000   2023.000000     20.800000   \n",
      "50%    53305.000000  5.496966e+06     11.000000   2023.000000     68.310000   \n",
      "75%    78498.000000  7.733869e+06     17.000000   2023.000000    173.160000   \n",
      "max    99984.000000  9.998480e+06     52.000000   2023.000000   1396.230000   \n",
      "\n",
      "          unit_cost   unit_weight           qty   line_number  shipping_price  \\\n",
      "count  54639.000000  54639.000000  5.463900e+04  54639.000000    5.463900e+04   \n",
      "mean      99.446073      5.004116  5.702646e+02      2.979667    1.742510e+04   \n",
      "std      133.164267      5.326599  1.879552e+04      2.436320    3.891595e+05   \n",
      "min        0.010000      0.000000  0.000000e+00      0.000000    0.000000e+00   \n",
      "25%       14.840000      1.450000  3.200000e+01      1.000000    4.966500e+02   \n",
      "50%       49.890000      3.240000  6.800000e+01      3.000000    1.577800e+03   \n",
      "75%      125.570000      6.890000  1.700000e+02      5.000000    5.029080e+03   \n",
      "max      846.270000     46.430000  3.958244e+06      9.000000    6.306339e+07   \n",
      "\n",
      "       line_subtotal    line_price     line_cost   line_profit  \n",
      "count   5.463900e+04  5.463900e+04  5.463900e+04  5.463900e+04  \n",
      "mean    7.710286e+04  1.032718e+05  7.387972e+04  2.939207e+04  \n",
      "std     2.881926e+06  3.286505e+06  2.133294e+06  1.195291e+06  \n",
      "min     0.000000e+00  0.000000e+00  0.000000e+00  0.000000e+00  \n",
      "25%     1.132950e+03  2.887565e+03  2.206360e+03  5.597773e+02  \n",
      "50%     4.629440e+03  8.396485e+03  6.266040e+03  1.894838e+03  \n",
      "75%     1.736913e+04  2.645605e+04  1.946590e+04  6.674207e+03  \n",
      "max     5.844743e+08  6.412625e+08  3.987535e+08  2.425090e+08  \n"
     ]
    }
   ],
   "source": [
    "# Use the describe function to gather some basic statistics\n",
    "desciption = df.describe()\n",
    "print(desciption)"
   ]
  },
  {
   "cell_type": "code",
   "execution_count": 4,
   "id": "b24b53cc",
   "metadata": {},
   "outputs": [],
   "source": [
    "# Use this space to do any additional research\n",
    "# and familiarize yourself with the data.\n",
    "\n"
   ]
  },
  {
   "cell_type": "code",
   "execution_count": 4,
   "id": "551cb358",
   "metadata": {},
   "outputs": [
    {
     "name": "stdout",
     "output_type": "stream",
     "text": [
      "Top three item categories with the most entries:\n",
      "category\n",
      "consumables    23538\n",
      "furniture      11915\n",
      "software        8400\n",
      "Name: count, dtype: int64\n"
     ]
    }
   ],
   "source": [
    "# What three item categories had the most entries?\n",
    "\n",
    "category_counts = df['category'].value_counts()\n",
    "\n",
    "top_three_categories = category_counts.head(3)\n",
    "print(\"Top three item categories with the most entries:\")\n",
    "print(top_three_categories)"
   ]
  },
  {
   "cell_type": "code",
   "execution_count": 6,
   "id": "5f54e2cf",
   "metadata": {},
   "outputs": [
    {
     "name": "stdout",
     "output_type": "stream",
     "text": [
      "For the category 'consumables', the subcategory 'bathroom supplies' had the most entries.\n"
     ]
    }
   ],
   "source": [
    "# For the category with the most entries,\n",
    "# which subcategory had the most entries?\n",
    "\n",
    "#This code to determine the category with the most entries\n",
    "most_entries_category = df['category'].value_counts().idxmax()\n",
    "\n",
    "#This code to filter the DataFrame to include only entries corresponding to the category with the most entries\n",
    "filtered_df = df[df['category'] == most_entries_category]\n",
    "\n",
    "#This code to determine the subcategory with the most entries within the filtered DataFrame\n",
    "most_entries_subcategory = filtered_df['subcategory'].value_counts().idxmax()\n",
    "\n",
    "#Print the subcategory with the most entries within the category with the most entries\n",
    "print(f\"For the category '{most_entries_category}', the subcategory '{most_entries_subcategory}' had the most entries.\")\n"
   ]
  },
  {
   "cell_type": "code",
   "execution_count": 7,
   "id": "2db94379",
   "metadata": {},
   "outputs": [
    {
     "name": "stdout",
     "output_type": "stream",
     "text": [
      "Top five clients with the most entries:\n",
      "client_id\n",
      "33615    220\n",
      "66037    211\n",
      "46820    209\n",
      "38378    207\n",
      "24741    207\n",
      "Name: count, dtype: int64\n"
     ]
    }
   ],
   "source": [
    "#Which five clients had the most entries in the data?\n",
    "\n",
    "top_five_clients = df['client_id'].value_counts().head(5)\n",
    "print(\"Top five clients with the most entries:\")\n",
    "print(top_five_clients)\n"
   ]
  },
  {
   "cell_type": "code",
   "execution_count": 8,
   "id": "a6635601",
   "metadata": {},
   "outputs": [
    {
     "name": "stdout",
     "output_type": "stream",
     "text": [
      "Client IDs of the top five clients:\n",
      "[33615, 66037, 46820, 38378, 24741]\n"
     ]
    }
   ],
   "source": [
    "# Store the client ids of those top 5 clients in a list.\n",
    "\n",
    "top_five_clients = df['client_id'].value_counts().head(5)\n",
    "\n",
    "top_five_client_ids = top_five_clients.index.tolist()\n",
    "print(\"Client IDs of the top five clients:\")\n",
    "print(top_five_client_ids)\n"
   ]
  },
  {
   "cell_type": "code",
   "execution_count": 9,
   "id": "c88b8a3e",
   "metadata": {},
   "outputs": [
    {
     "name": "stdout",
     "output_type": "stream",
     "text": [
      "The client with the most entries ordered a total of 64313 units.\n"
     ]
    }
   ],
   "source": [
    "# How many total units (the qty column) did the\n",
    "# client with the most entries order order?\n",
    "\n",
    "client_with_most_entries = df['client_id'].value_counts().idxmax()\n",
    "\n",
    "client_most_entries_df = df[df['client_id'] == client_with_most_entries]\n",
    "\n",
    "total_units_ordered = client_most_entries_df['qty'].sum()\n",
    "print(f\"The client with the most entries ordered a total of {total_units_ordered} units.\")\n"
   ]
  },
  {
   "cell_type": "markdown",
   "id": "257fcd7d",
   "metadata": {},
   "source": [
    "## Part 2: Transform the Data\n",
    "Do we know that this client spent the more money than client 66037? If not, how would we find out? Transform the data using the steps below to prepare it for analysis."
   ]
  },
  {
   "cell_type": "code",
   "execution_count": 10,
   "id": "0c25c4a8",
   "metadata": {},
   "outputs": [
    {
     "name": "stdout",
     "output_type": "stream",
     "text": [
      "       first      last                    job               phone  \\\n",
      "0     Donald   Harding           Immunologist  793-904-7725x39308   \n",
      "1    Tiffany     Myers        Music therapist    201.442.4543x942   \n",
      "2    Shannon    Watson           Immunologist   687.737.9424x8503   \n",
      "3     Nathan     Baker  Accounting technician    827-788-8123x012   \n",
      "4  Christina  Schwartz           Chiropractor        265-829-3643   \n",
      "\n",
      "                                 email  client_id  order_id  order_date  \\\n",
      "0     harding.donald.7185@sullivan.com      58515   8953482  2023-04-28   \n",
      "1    myers.t.6537@ferguson-johnson.net      37609   8069089  2023-05-19   \n",
      "2                swatson8146@payne.net      57113   1902144  2023-01-29   \n",
      "3               bakernathan@benson.com      46554   9031802  2023-04-25   \n",
      "4  christinaschwartz9252@mcconnell.com      92089   1322274  2023-05-28   \n",
      "\n",
      "   order_week  order_year         item_id     category         subcategory  \\\n",
      "0          17        2023  EUD29711-63-6U        decor            wall art   \n",
      "1          20        2023  XDA18116-89-4A  consumables                pens   \n",
      "2           4        2023  ABE59463-05-7E     software  project management   \n",
      "3          17        2023  ZMM00836-65-0C  consumables                pens   \n",
      "4          21        2023  BZX55559-12-3X  consumables                misc   \n",
      "\n",
      "   unit_price  unit_cost  unit_weight  qty  line_number   subtotal  \n",
      "0     1096.80     762.71         7.50  105            1  115164.00  \n",
      "1       24.95      15.09         1.49   21            0     523.95  \n",
      "2       13.52       7.86         1.68   39            6     527.28  \n",
      "3       36.42      24.85         1.23   29            3    1056.18  \n",
      "4      195.10     108.17        46.43   20            1    3902.00  \n"
     ]
    }
   ],
   "source": [
    "# Create a column that calculates the \n",
    "# subtotal for each line using the unit_price\n",
    "# and the qty\n",
    "\n",
    "df['subtotal'] = df['unit_price'] * df['qty']\n",
    "print(df.head())\n",
    "\n"
   ]
  },
  {
   "cell_type": "code",
   "execution_count": 14,
   "id": "ac9dafc8",
   "metadata": {},
   "outputs": [
    {
     "name": "stdout",
     "output_type": "stream",
     "text": [
      "       first      last                    job               phone  \\\n",
      "0     Donald   Harding           Immunologist  793-904-7725x39308   \n",
      "1    Tiffany     Myers        Music therapist    201.442.4543x942   \n",
      "2    Shannon    Watson           Immunologist   687.737.9424x8503   \n",
      "3     Nathan     Baker  Accounting technician    827-788-8123x012   \n",
      "4  Christina  Schwartz           Chiropractor        265-829-3643   \n",
      "\n",
      "                                 email  client_id  order_id  order_date  \\\n",
      "0     harding.donald.7185@sullivan.com      58515   8953482  2023-04-28   \n",
      "1    myers.t.6537@ferguson-johnson.net      37609   8069089  2023-05-19   \n",
      "2                swatson8146@payne.net      57113   1902144  2023-01-29   \n",
      "3               bakernathan@benson.com      46554   9031802  2023-04-25   \n",
      "4  christinaschwartz9252@mcconnell.com      92089   1322274  2023-05-28   \n",
      "\n",
      "   order_week  order_year         item_id     category         subcategory  \\\n",
      "0          17        2023  EUD29711-63-6U        decor            wall art   \n",
      "1          20        2023  XDA18116-89-4A  consumables                pens   \n",
      "2           4        2023  ABE59463-05-7E     software  project management   \n",
      "3          17        2023  ZMM00836-65-0C  consumables                pens   \n",
      "4          21        2023  BZX55559-12-3X  consumables                misc   \n",
      "\n",
      "   unit_price  unit_cost  unit_weight  qty  line_number  shipping_price  \n",
      "0     1096.80     762.71         7.50  105            1         5512.50  \n",
      "1       24.95      15.09         1.49   21            0          312.90  \n",
      "2       13.52       7.86         1.68   39            6          458.64  \n",
      "3       36.42      24.85         1.23   29            3          356.70  \n",
      "4      195.10     108.17        46.43   20            1         6500.20  \n"
     ]
    }
   ],
   "source": [
    "# Create a column for shipping price.\n",
    "# Assume a shipping price of $7 per pound\n",
    "# for orders over 50 pounds and $10 per\n",
    "# pound for items 50 pounds or under.\n",
    "import pandas as pd\n",
    "\n",
    "# Read the CSV file into a DataFrame\n",
    "df = pd.read_csv('Resources/client_dataset.csv')\n",
    "\n",
    "# Code to determine a function to calculate shipping price based on weight and quantity\n",
    "def calculate_shipping_price(row):\n",
    "    if row['unit_weight'] * row['qty'] > 50:\n",
    "        return row['unit_weight'] * row['qty'] * 7  # $7 per pound for orders over 50 pounds\n",
    "    else:\n",
    "        return row['unit_weight'] * row['qty'] * 10  # $10 per pound for orders 50 pounds or under\n",
    "\n",
    "# New column 'shipping_price' by applying the function to each row\n",
    "df['shipping_price'] = df.apply(calculate_shipping_price, axis=1)\n",
    "\n",
    "# Display the DataFrame with new 'shipping_price' column\n",
    "print(df.head())\n"
   ]
  },
  {
   "cell_type": "code",
   "execution_count": 16,
   "id": "77f42c67",
   "metadata": {},
   "outputs": [
    {
     "name": "stdout",
     "output_type": "stream",
     "text": [
      "       shipping_price  line_subtotal     line_price\n",
      "0             5512.50      115164.00  131839.076250\n",
      "1              312.90         523.95     914.258625\n",
      "2              458.64         527.28    1077.117600\n",
      "3              356.70        1056.18    1543.571400\n",
      "4             6500.20        3902.00   11364.403500\n",
      "...               ...            ...            ...\n",
      "54634          519.75        2743.29    3564.871200\n",
      "54635         3849.30        9709.73   14813.240275\n",
      "54636        13832.00       31188.50   49184.896250\n",
      "54637        14143.36         165.76   15632.713600\n",
      "54638        14939.19        3103.31   19711.431250\n",
      "\n",
      "[54639 rows x 3 columns]\n"
     ]
    }
   ],
   "source": [
    "# Create a column for the total price\n",
    "# using the subtotal and the shipping price\n",
    "# along with a sales tax of 9.25%\n",
    "\n",
    "import pandas as pd\n",
    "\n",
    "# Code to calculate shipping price based on weight and quantity\n",
    "def calculate_shipping_price(row):\n",
    "    if row['unit_weight'] * row['qty'] > 50:\n",
    "        return row['unit_weight'] * row['qty'] * 7  # $7 per pound for orders over 50 pounds\n",
    "    else:\n",
    "        return row['unit_weight'] * row['qty'] * 10  # $10 per pound for orders 50 pounds or under\n",
    "\n",
    "# Createing a new column 'shipping_price' by applying the function to each row\n",
    "df['shipping_price'] = df.apply(calculate_shipping_price, axis=1)\n",
    "\n",
    "# Code to determine a function to calculate line subtotal\n",
    "def calculate_line_subtotal(row):\n",
    "    return row['unit_price'] * row['qty']\n",
    "\n",
    "# Creating a new column 'line_subtotal' by applying the function to each row\n",
    "df['line_subtotal'] = df.apply(calculate_line_subtotal, axis=1)\n",
    "\n",
    "# Code to define a function to calculate line price including shipping and tax\n",
    "def calculate_line_price(row):\n",
    "    subtotal = row['line_subtotal']\n",
    "    shipping_price = row['shipping_price']\n",
    "    tax_rate = 0.0925  # 9.25% sales tax\n",
    "    line_price = subtotal + shipping_price + (subtotal + shipping_price) * tax_rate\n",
    "    return line_price\n",
    "\n",
    "# Creating a new column 'line_price' by applying the function to each row\n",
    "df['line_price'] = df.apply(calculate_line_price, axis=1)\n",
    "\n",
    "# Display the new DataFrame with the new columns 'shipping_price', 'line_subtotal', and 'line_price'\n",
    "print(df[['shipping_price', 'line_subtotal', 'line_price']])\n",
    "\n"
   ]
  },
  {
   "cell_type": "code",
   "execution_count": 17,
   "id": "c82ad275",
   "metadata": {},
   "outputs": [
    {
     "name": "stdout",
     "output_type": "stream",
     "text": [
      "       shipping_price  line_subtotal     line_price\n",
      "0             5512.50      115164.00  131839.076250\n",
      "1              312.90         523.95     914.258625\n",
      "2              458.64         527.28    1077.117600\n",
      "3              356.70        1056.18    1543.571400\n",
      "4             6500.20        3902.00   11364.403500\n",
      "...               ...            ...            ...\n",
      "54634          519.75        2743.29    3564.871200\n",
      "54635         3849.30        9709.73   14813.240275\n",
      "54636        13832.00       31188.50   49184.896250\n",
      "54637        14143.36         165.76   15632.713600\n",
      "54638        14939.19        3103.31   19711.431250\n",
      "\n",
      "[54639 rows x 3 columns]\n",
      "       shipping_price  line_subtotal     line_price  line_cost\n",
      "0             5512.50      115164.00  131839.076250   85597.05\n",
      "1              312.90         523.95     914.258625     629.79\n",
      "2              458.64         527.28    1077.117600     765.18\n",
      "3              356.70        1056.18    1543.571400    1077.35\n",
      "4             6500.20        3902.00   11364.403500    8663.60\n",
      "...               ...            ...            ...        ...\n",
      "54634          519.75        2743.29    3564.871200    2222.55\n",
      "54635         3849.30        9709.73   14813.240275   12095.92\n",
      "54636        13832.00       31188.50   49184.896250   41054.25\n",
      "54637        14143.36         165.76   15632.713600   14280.00\n",
      "54638        14939.19        3103.31   19711.431250   16599.10\n",
      "\n",
      "[54639 rows x 4 columns]\n"
     ]
    }
   ],
   "source": [
    "# Create a column for the cost\n",
    "# of each line using unit cost, qty, and\n",
    "# shipping price (assume the shipping cost\n",
    "# is exactly what is charged to the client).\n",
    "\n",
    "import pandas as pd\n",
    "\n",
    "# Code to define a function to calculate shipping price based on weight and quantity\n",
    "def calculate_shipping_price(row):\n",
    "    if row['unit_weight'] * row['qty'] > 50:\n",
    "        return row['unit_weight'] * row['qty'] * 7  # $7 per pound for orders over 50 pounds\n",
    "    else:\n",
    "        return row['unit_weight'] * row['qty'] * 10  # $10 per pound for orders 50 pounds or under\n",
    "\n",
    "# Creating a new column 'shipping_price' by applying the function to each row\n",
    "df['shipping_price'] = df.apply(calculate_shipping_price, axis=1)\n",
    "\n",
    "# Code to define a function to calculate line subtotal\n",
    "def calculate_line_subtotal(row):\n",
    "    return row['unit_price'] * row['qty']\n",
    "\n",
    "# Creating a new column 'line_subtotal' by applying the function to each row\n",
    "df['line_subtotal'] = df.apply(calculate_line_subtotal, axis=1)\n",
    "\n",
    "# Code to define a function to calculate line price including shipping and tax\n",
    "def calculate_line_price(row):\n",
    "    subtotal = row['line_subtotal']\n",
    "    shipping_price = row['shipping_price']\n",
    "    tax_rate = 0.0925  # 9.25% sales tax\n",
    "    line_price = subtotal + shipping_price + (subtotal + shipping_price) * tax_rate\n",
    "    return line_price\n",
    "\n",
    "# Creating a new column 'line_price' by applying the function to each row\n",
    "df['line_price'] = df.apply(calculate_line_price, axis=1)\n",
    "\n",
    "# Display the new DataFrame with the new columns 'shipping_price', 'line_subtotal', and 'line_price'\n",
    "print(df[['shipping_price', 'line_subtotal', 'line_price']])\n",
    "# Your existing code here\n",
    "# Assuming 'df' is your DataFrame\n",
    "# Definitions of calculate_shipping_price, calculate_line_subtotal, and calculate_line_price functions\n",
    "\n",
    "# Code to define a function to calculate the cost of each line including unit cost, qty, and shipping price\n",
    "def calculate_line_cost(row):\n",
    "    item_cost = row['unit_cost'] * row['qty']  # Total cost of items\n",
    "    shipping_cost = row['shipping_price']  # Shipping cost as charged to the client\n",
    "    line_cost = item_cost + shipping_cost  # Total line cost\n",
    "    return line_cost\n",
    "\n",
    "# Creating a new column 'line_cost' by applying the function to each row\n",
    "df['line_cost'] = df.apply(calculate_line_cost, axis=1)\n",
    "\n",
    "# Display the new DataFrame with the new column 'line_cost' along with 'shipping_price', 'line_subtotal', and 'line_price'\n",
    "print(df[['shipping_price', 'line_subtotal', 'line_price', 'line_cost']])\n",
    "\n"
   ]
  },
  {
   "cell_type": "code",
   "execution_count": 18,
   "id": "e2389018",
   "metadata": {},
   "outputs": [
    {
     "name": "stdout",
     "output_type": "stream",
     "text": [
      "       shipping_price  line_subtotal     line_price  line_cost   line_profit\n",
      "0             5512.50      115164.00  131839.076250   85597.05  46242.026250\n",
      "1              312.90         523.95     914.258625     629.79    284.468625\n",
      "2              458.64         527.28    1077.117600     765.18    311.937600\n",
      "3              356.70        1056.18    1543.571400    1077.35    466.221400\n",
      "4             6500.20        3902.00   11364.403500    8663.60   2700.803500\n",
      "...               ...            ...            ...        ...           ...\n",
      "54634          519.75        2743.29    3564.871200    2222.55   1342.321200\n",
      "54635         3849.30        9709.73   14813.240275   12095.92   2717.320275\n",
      "54636        13832.00       31188.50   49184.896250   41054.25   8130.646250\n",
      "54637        14143.36         165.76   15632.713600   14280.00   1352.713600\n",
      "54638        14939.19        3103.31   19711.431250   16599.10   3112.331250\n",
      "\n",
      "[54639 rows x 5 columns]\n"
     ]
    }
   ],
   "source": [
    "# Create a column for the profit of\n",
    "# each line using line cost and line price\n",
    "\n",
    "import pandas as pd\n",
    "\n",
    "# Code to define a function to calculate shipping price based on weight and quantity\n",
    "def calculate_shipping_price(row):\n",
    "    if row['unit_weight'] * row['qty'] > 50:\n",
    "        return row['unit_weight'] * row['qty'] * 7  # $7 per pound for orders over 50 pounds\n",
    "    else:\n",
    "        return row['unit_weight'] * row['qty'] * 10  # $10 per pound for orders 50 pounds or under\n",
    "\n",
    "# Creating a new column 'shipping_price' by applying the function to each row\n",
    "df['shipping_price'] = df.apply(calculate_shipping_price, axis=1)\n",
    "\n",
    "# Code to define a function to calculate line subtotal\n",
    "def calculate_line_subtotal(row):\n",
    "    return row['unit_price'] * row['qty']\n",
    "\n",
    "# Creating a new column 'line_subtotal' by applying the function to each row\n",
    "df['line_subtotal'] = df.apply(calculate_line_subtotal, axis=1)\n",
    "\n",
    "# Code to define a function to calculate line price including shipping and tax\n",
    "def calculate_line_price(row):\n",
    "    subtotal = row['line_subtotal']\n",
    "    shipping_price = row['shipping_price']\n",
    "    tax_rate = 0.0925  # 9.25% sales tax\n",
    "    line_price = subtotal + shipping_price + (subtotal + shipping_price) * tax_rate\n",
    "    return line_price\n",
    "\n",
    "# Creating a new column 'line_price' by applying the function to each row\n",
    "df['line_price'] = df.apply(calculate_line_price, axis=1)\n",
    "\n",
    "# Code to define a function to calculate the cost of each line including unit cost, qty, and shipping price\n",
    "def calculate_line_cost(row):\n",
    "    item_cost = row['unit_cost'] * row['qty']  # Total cost of items\n",
    "    shipping_cost = row['shipping_price']  # Shipping cost as charged to the client\n",
    "    line_cost = item_cost + shipping_cost  # Total line cost\n",
    "    return line_cost\n",
    "\n",
    "# Creating a new column 'line_cost' by applying the function to each row\n",
    "df['line_cost'] = df.apply(calculate_line_cost, axis=1)\n",
    "\n",
    "# Code to define a function to calculate the profit of each line using line cost and line price\n",
    "def calculate_line_profit(row):\n",
    "    line_price = row['line_price']  # The total selling price for the line\n",
    "    line_cost = row['line_cost']  # The total cost for the line\n",
    "    line_profit = line_price - line_cost  # Profit calculation\n",
    "    return line_profit\n",
    "\n",
    "# Creating a new column 'line_profit' by applying the function to each row\n",
    "df['line_profit'] = df.apply(calculate_line_profit, axis=1)\n",
    "\n",
    "# Display the new DataFrame with the new columns\n",
    "print(df[['shipping_price', 'line_subtotal', 'line_price', 'line_cost', 'line_profit']])\n",
    "\n"
   ]
  },
  {
   "cell_type": "markdown",
   "id": "ef6f62b1",
   "metadata": {},
   "source": [
    "## Part 3: Confirm your work\n",
    "You have email receipts showing that the total prices for 3 orders. Confirm that your calculations match the receipts. Remember, each order has multiple lines.\n",
    "\n",
    "Order ID 2742071 had a total price of \\$152,811.89\n",
    "\n",
    "Order ID 2173913 had a total price of \\$162,388.71\n",
    "\n",
    "Order ID 6128929 had a total price of \\$923,441.25\n"
   ]
  },
  {
   "cell_type": "code",
   "execution_count": 25,
   "id": "c0e5d68e",
   "metadata": {},
   "outputs": [
    {
     "name": "stdout",
     "output_type": "stream",
     "text": [
      "Total price for Order ID 2742071: 152811.897075\n",
      "Total price for Order ID 2173913: 162388.71929999997\n",
      "Total price for Order ID 6128929: 923441.24045\n"
     ]
    }
   ],
   "source": [
    "# Check your work using the totals above\n",
    "\n",
    "import pandas as pd\n",
    "\n",
    "# Filtering the DataFrame for the specified order IDs that were given\n",
    "order_1 = df[df['order_id'] == 2742071]\n",
    "order_2 = df[df['order_id'] == 2173913]\n",
    "order_3 = df[df['order_id'] == 6128929]\n",
    "\n",
    "# Calculating the total price for each of the orders\n",
    "total_price_order_1 = order_1['line_price'].sum()\n",
    "total_price_order_2 = order_2['line_price'].sum()\n",
    "total_price_order_3 = order_3['line_price'].sum()\n",
    "\n",
    "# Printing the total prices for each order to confirm the price\n",
    "print(\"Total price for Order ID 2742071:\", total_price_order_1)\n",
    "print(\"Total price for Order ID 2173913:\", total_price_order_2)\n",
    "print(\"Total price for Order ID 6128929:\", total_price_order_3)"
   ]
  },
  {
   "cell_type": "markdown",
   "id": "b94d58ab",
   "metadata": {},
   "source": [
    "## Part 4: Summarize and Analyze\n",
    "Use the new columns with confirmed values to find the following information."
   ]
  },
  {
   "cell_type": "code",
   "execution_count": 20,
   "id": "7c005f34",
   "metadata": {},
   "outputs": [
    {
     "name": "stdout",
     "output_type": "stream",
     "text": [
      "client_id\n",
      "24741    8.226889e+07\n",
      "33615    8.377309e+06\n",
      "38378    1.290655e+07\n",
      "46820    9.743794e+06\n",
      "66037    1.025951e+07\n",
      "Name: line_price, dtype: float64\n"
     ]
    }
   ],
   "source": [
    "# How much did each of the top 5 clients by quantity\n",
    "# spend? Check your work from Part 1 for client ids.\n",
    "\n",
    "# Pulling the top 5 client IDs\n",
    "top_clients = [33615, 66037, 46820, 38378, 24741]\n",
    "\n",
    "# Filtering the DataFrame for transactions made by the top 5 client IDs\n",
    "top_clients_df = df[df['client_id'].isin(top_clients)]\n",
    "\n",
    "# Code for grouping by client_ID and calculate total spending\n",
    "total_spending_by_client = top_clients_df.groupby('client_id')['line_price'].sum()\n",
    "\n",
    "# Printing the total spending by each of the top 5 clients\n",
    "print(total_spending_by_client)\n"
   ]
  },
  {
   "cell_type": "code",
   "execution_count": 22,
   "id": "81b6e4d2",
   "metadata": {},
   "outputs": [
    {
     "name": "stdout",
     "output_type": "stream",
     "text": [
      "       total_units_purchased  total_shipping_price  total_revenue  \\\n",
      "24741                 239862            5126448.37   8.226889e+07   \n",
      "38378                  73667            3429455.40   1.290655e+07   \n",
      "66037                  43018            1395151.85   1.025951e+07   \n",
      "46820                  75768            1601448.84   9.743794e+06   \n",
      "33615                  64313            1828984.89   8.377309e+06   \n",
      "\n",
      "       total_profit  \n",
      "24741  3.657999e+07  \n",
      "38378  3.271830e+06  \n",
      "66037  3.255032e+06  \n",
      "46820  2.736603e+06  \n",
      "33615  2.201995e+06  \n"
     ]
    }
   ],
   "source": [
    "# Create a summary DataFrame showing the totals for the\n",
    "# for the top 5 clients with the following information:\n",
    "# total units purchased, total shipping price,\n",
    "# total revenue, and total profit. Sort by total profit.\n",
    "\n",
    "\n",
    "import pandas as pd\n",
    "\n",
    "# Code to define a function to calculate total units purchased\n",
    "def calculate_total_units(client_id):\n",
    "    client_data = top_clients_df[top_clients_df['client_id'] == client_id]\n",
    "    total_units = client_data['qty'].sum()\n",
    "    return total_units\n",
    "\n",
    "# Code to define a function to calculate total shipping price\n",
    "def calculate_total_shipping(client_id):\n",
    "    client_data = top_clients_df[top_clients_df['client_id'] == client_id]\n",
    "    total_shipping = client_data['shipping_price'].sum()\n",
    "    return total_shipping\n",
    "\n",
    "# Code to define a function to calculate total revenue\n",
    "def calculate_total_revenue(client_id):\n",
    "    client_data = top_clients_df[top_clients_df['client_id'] == client_id]\n",
    "    total_revenue = client_data['line_price'].sum()\n",
    "    return total_revenue\n",
    "\n",
    "# Code to define a function to calculate total profit\n",
    "def calculate_total_profit(client_id):\n",
    "    client_data = top_clients_df[top_clients_df['client_id'] == client_id]\n",
    "    total_profit = client_data['line_profit'].sum()\n",
    "    return total_profit\n",
    "\n",
    "# Creating a dictionary to store the calculated values\n",
    "summary_data = {\n",
    "    'total_units_purchased': [calculate_total_units(client_id) for client_id in top_clients],\n",
    "    'total_shipping_price': [calculate_total_shipping(client_id) for client_id in top_clients],\n",
    "    'total_revenue': [calculate_total_revenue(client_id) for client_id in top_clients],\n",
    "    'total_profit': [calculate_total_profit(client_id) for client_id in top_clients]\n",
    "}\n",
    "\n",
    "# Creating a DataFrame from the dictionary\n",
    "summary_df = pd.DataFrame(summary_data, index=top_clients)\n",
    "\n",
    "# Sorting the DataFrame by total profit\n",
    "summary_df = summary_df.sort_values(by='total_profit', ascending=False)\n",
    "\n",
    "# Printing the new summary DataFrame\n",
    "print(summary_df)\n"
   ]
  },
  {
   "cell_type": "code",
   "execution_count": 23,
   "id": "7be02867",
   "metadata": {},
   "outputs": [
    {
     "name": "stdout",
     "output_type": "stream",
     "text": [
      "      Total Units Purchased Total Shipping Price Total Revenue Total Profit\n",
      "24741               239,862               $5.13M       $82.27M      $36.58M\n",
      "38378                73,667               $3.43M       $12.91M       $3.27M\n",
      "66037                43,018               $1.40M       $10.26M       $3.26M\n",
      "46820                75,768               $1.60M        $9.74M       $2.74M\n",
      "33615                64,313               $1.83M        $8.38M       $2.20M\n"
     ]
    }
   ],
   "source": [
    "# Format the data and rename the columns\n",
    "# to names suitable for presentation.\n",
    "# Currency should be in millions of dollars.\n",
    "\n",
    "# Formating the data\n",
    "summary_df['total_units_purchased'] = summary_df['total_units_purchased'].apply(lambda x: '{:,.0f}'.format(x))\n",
    "summary_df['total_shipping_price'] = summary_df['total_shipping_price'].apply(lambda x: '${:,.2f}'.format(x))\n",
    "summary_df['total_revenue'] = summary_df['total_revenue'].apply(lambda x: '${:,.2f}'.format(x))\n",
    "summary_df['total_profit'] = summary_df['total_profit'].apply(lambda x: '${:,.2f}'.format(x))\n",
    "\n",
    "# Renaming the columns for presentation as requested\n",
    "summary_df = summary_df.rename(columns={\n",
    "    'total_units_purchased': 'Total Units Purchased',\n",
    "    'total_shipping_price': 'Total Shipping Price',\n",
    "    'total_revenue': 'Total Revenue',\n",
    "    'total_profit': 'Total Profit'\n",
    "})\n",
    "\n",
    "# Converting the currency to millions of dollars\n",
    "summary_df['Total Shipping Price'] = summary_df['Total Shipping Price'].apply(lambda x: '${:,.2f}M'.format(float(x.strip('$').replace(',', '')) / 1000000))\n",
    "summary_df['Total Revenue'] = summary_df['Total Revenue'].apply(lambda x: '${:,.2f}M'.format(float(x.strip('$').replace(',', '')) / 1000000))\n",
    "summary_df['Total Profit'] = summary_df['Total Profit'].apply(lambda x: '${:,.2f}M'.format(float(x.strip('$').replace(',', '')) / 1000000))\n",
    "\n",
    "# Printing the new formatted summary DataFrame\n",
    "print(summary_df)\n"
   ]
  },
  {
   "cell_type": "code",
   "execution_count": 24,
   "id": "8ead0986",
   "metadata": {},
   "outputs": [
    {
     "name": "stdout",
     "output_type": "stream",
     "text": [
      "      Total Units Purchased Total Shipping Price Total Revenue Total Profit\n",
      "24741               239,862               $5.13M       $82.27M      $36.58M\n",
      "38378                73,667               $3.43M       $12.91M       $3.27M\n",
      "66037                43,018               $1.40M       $10.26M       $3.26M\n",
      "46820                75,768               $1.60M        $9.74M       $2.74M\n",
      "33615                64,313               $1.83M        $8.38M       $2.20M\n"
     ]
    }
   ],
   "source": [
    "# Sort the updated data by \"Total Profit\" form highest to lowest\n",
    "\n",
    "import pandas as pd\n",
    "\n",
    "# Sorting the updated DataFrame by \"Total Profit\" from highest to lowest\n",
    "summary_df = summary_df.sort_values(by='Total Profit', ascending=False)\n",
    "\n",
    "# Printing the new the sorted summary DataFrame\n",
    "print(summary_df)\n",
    "\n",
    "#Client ID 24741 did the most in profit by far compared to the other top clients; the rest of the four were similar in terms of shipping price cost and total revenue/profit. The highest top client outperformed the rest combined.\n"
   ]
  }
 ],
 "metadata": {
  "kernelspec": {
   "display_name": "Python 3 (ipykernel)",
   "language": "python",
   "name": "python3"
  },
  "language_info": {
   "codemirror_mode": {
    "name": "ipython",
    "version": 3
   },
   "file_extension": ".py",
   "mimetype": "text/x-python",
   "name": "python",
   "nbconvert_exporter": "python",
   "pygments_lexer": "ipython3",
   "version": "3.10.13"
  }
 },
 "nbformat": 4,
 "nbformat_minor": 5
}
